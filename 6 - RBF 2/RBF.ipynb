{
 "cells": [
  {
   "cell_type": "markdown",
   "metadata": {},
   "source": [
    "# Exercício 8 - Radial Basis Functons Neural Networks \n",
    "\n",
    "**Aluno:** Vítor Gabriel Reis Caitité\n",
    "\n",
    "**Matrícula:** $2021712430$"
   ]
  },
  {
   "cell_type": "markdown",
   "metadata": {},
   "source": [
    "## Objetivos\n",
    "\n",
    "O objetivo do exercício desta semana é combinar os conceitos aprendidos na Unidade 2 e construir uma rede neural que soma elementos das redes RBF e das redes ELM.\n",
    "\n",
    "As bases de dados a serem estudadas, que pertencem ao repositório UCI Machine Learning Repository [1], são:\n",
    "\n",
    "- Breast Cancer (diagnostic)\n",
    "\n",
    "- Statlog (Heart)\n",
    "\n",
    "Para o exercício desta semana, será construída uma rede RBF com centros e raios atribuídos de forma aleatória aos neurônios.\n",
    "\n",
    "Além da RBF com centros e raios aleatórios, será construída uma RBF com centros e raios selecionados a partir do k-médias. As acurácias obtidas por cada uma das redes nas duas bases serão apresentadas no formato media +/- desvio e comparadas com os resultados obtidos no exercício 6 para ELMs.\n",
    "\n",
    "Além disso, será comparado, também, o número de centros necessários para desempenho semelhante entre as redes RBF com centros aleatórios e com centros selecionados por agrupamento (k-médias).\n"
   ]
  },
  {
   "cell_type": "markdown",
   "metadata": {},
   "source": [
    "## Importando Bibliotecas e Datasets"
   ]
  },
  {
   "cell_type": "code",
   "execution_count": 23,
   "metadata": {},
   "outputs": [],
   "source": [
    "# Imports\n",
    "import matplotlib.pyplot as plt\n",
    "import pandas as pd\n",
    "import numpy as np\n",
    "import math\n",
    "from sklearn.metrics import confusion_matrix, classification_report, accuracy_score\n",
    "from sklearn import preprocessing\n",
    "from sklearn.cluster import KMeans\n",
    "from sklearn.model_selection import train_test_split\n",
    "from scipy.spatial import distance\n",
    "import random"
   ]
  },
  {
   "cell_type": "markdown",
   "metadata": {},
   "source": [
    "## Implementação da Rede RBF com centros e raios selecionados a partir do K-means\n",
    "\n",
    "A função abaixo é uma implementação possível, em Python, para o algoritmo de treinamento de uma rede RBF com centros e raios\n",
    "selecionados a partir do algoritmo K-means."
   ]
  },
  {
   "cell_type": "code",
   "execution_count": 24,
   "metadata": {},
   "outputs": [],
   "source": [
    "class RBF:\n",
    "         \n",
    "    def __init__(self, n_neurons):\n",
    "        self.n_neurons = n_neurons\n",
    "    \n",
    "    def pdfnvar(self, x, m, K, n):\n",
    "        if n==1:\n",
    "            r = np.sqrt(K)\n",
    "            px = (1/(math.sqrt(2*math.pi*r*r))) * math.e**(-0.5 * ((x - m)/r)**2)\n",
    "        else:\n",
    "            px = 1/math.sqrt((2*math.pi)**n * np.linalg.det(K)) * math.e ** (-0.5 * np.dot(np.dot(np.transpose(x - m), np.linalg.inv(K)), x-m))\n",
    "        return px\n",
    "\n",
    "    def fit(self, X, y):\n",
    "        N = X.shape[0] # number of samples\n",
    "        n = X.shape[1] # samples dimension\n",
    "        # Applying K-mean to separate the clusters:\n",
    "        kmeans = KMeans(n_clusters=self.n_neurons).fit(X)\n",
    "        # Capture the centers:\n",
    "        self.m = kmeans.cluster_centers_\n",
    "        # Estimate the covariance matrix for all centers:\n",
    "        self.cov_list = []\n",
    "        for i in range(0, self.n_neurons):\n",
    "            ici = np.where(kmeans.labels_ == i)\n",
    "            Xci = X[ici, :].reshape(ici[0].shape[0], n)\n",
    "            if n == 1:\n",
    "                covi = np.var(Xci)\n",
    "            else:\n",
    "                covi = np.cov(Xci, rowvar=False) \n",
    "            self.cov_list.append(covi)      \n",
    "        H = np.ones((N, self.n_neurons+1))\n",
    "        for j in range(N):\n",
    "            for i in range(self.n_neurons):\n",
    "                mi = self.m[i,:]\n",
    "                covi = self.cov_list[i] + 0.001 * np.diag(np.ones(n)) \n",
    "                H[j, i+1] = self.pdfnvar(X[j, ], mi, covi, n)\n",
    "        self.W = np.dot(np.linalg.pinv(H), y)\n",
    "        \n",
    "    def predict(self, X):\n",
    "        N = X.shape[0] # number of samples\n",
    "        n = X.shape[1] # samples dimension\n",
    "        H = np.ones((N, self.n_neurons+1))\n",
    "        for j in range(N):\n",
    "            for i in range(self.n_neurons):\n",
    "                mi = self.m[i,:]\n",
    "                covi = self.cov_list[i] + 0.001 * np.diag(np.ones(n)) \n",
    "                H[j, i+1] = self.pdfnvar(X[j, ], mi, covi, n)\n",
    "        y_hat = np.dot(H, self.W)\n",
    "        return y_hat"
   ]
  },
  {
   "cell_type": "markdown",
   "metadata": {},
   "source": [
    "## Implementação da Rede RBF com centros e raios atribuídos de forma aleatória aos neurônios\n",
    "\n",
    "A função abaixo é uma implementação possível, em Python, para o algoritmo de treinamento de uma rede RBF com centros e raios atribuídos\n",
    "de forma aleatória aos neurônios. A estratégia utilizada para a construção dos centros foi colocá-los entre 2 pontos escolhidos\n",
    "aleatoriamente do conjunto de treinamento, com o raio da função igual à distância entre os pontos."
   ]
  },
  {
   "cell_type": "code",
   "execution_count": 39,
   "metadata": {},
   "outputs": [],
   "source": [
    "import random\n",
    "class random_RBF:\n",
    "         \n",
    "    def __init__(self, n_neurons):\n",
    "        self.n_neurons = n_neurons\n",
    "    \n",
    "    def pdfnvar(self, x, m, K, n):\n",
    "        if n==1:\n",
    "            r = np.sqrt(K)\n",
    "            px = (1/(math.sqrt(2*math.pi*r*r))) * math.e**(-0.5 * ((x - m)/r)**2)\n",
    "        else:\n",
    "            px = 1/math.sqrt((2*math.pi)**n * np.linalg.det(K)) * math.e ** (-0.5 * np.dot(np.dot(np.transpose(x - m), np.linalg.inv(K)), x-m))\n",
    "        return px\n",
    "\n",
    "    def fit(self, X, y):\n",
    "        N = X.shape[0] # number of samples\n",
    "        n = X.shape[1] # samples dimension\n",
    "        \n",
    "        center = np.zeros((self.n_neurons, n))\n",
    "        radius = np.zeros(self.n_neurons)\n",
    "        for index in range(self.n_neurons):\n",
    "            # Escolhendo 2 pontos aleatoriamente (e garantindo que eles são diferentes):\n",
    "            point1 = random.randint(0, N-1) \n",
    "            point2 = random.randint(0, N-1)\n",
    "            while (point1 == point2):\n",
    "                point2 = random.randint(0, N-1)\n",
    "            point1 = X[point1,]\n",
    "            point2 = X[point2,]\n",
    "            # Centers e Radius:\n",
    "            center[index,] = (point1+point2)/2\n",
    "            radius[index] = distance.euclidean(point1, point2)\n",
    "            \n",
    "        # Capture the centers:\n",
    "        self.m = center\n",
    "        # Estimate the covariance matrix for all centers:\n",
    "        self.cov_list = []\n",
    "        for i in range(0, self.n_neurons):\n",
    "            ici = np.zeros(N)\n",
    "            for index in range(N):\n",
    "                if distance.euclidean(center[i, ], X[index, ]) <= radius[i]:\n",
    "                    ici[index] = 1 \n",
    "            ici = np.where(ici==1)    \n",
    "            Xci = X[ici, :].reshape(ici[0].shape[0], n)\n",
    "            if n == 1:\n",
    "                covi = np.var(Xci)\n",
    "            else:\n",
    "                covi = np.cov(Xci, rowvar=False) \n",
    "            self.cov_list.append(covi)      \n",
    "        H = np.ones((N, self.n_neurons+1))\n",
    "        for j in range(N):\n",
    "            for i in range(self.n_neurons):\n",
    "                mi = self.m[i,:]\n",
    "                covi = self.cov_list[i] + 0.001 * np.diag(np.ones(n)) \n",
    "                H[j, i+1] = self.pdfnvar(X[j, ], mi, covi, n)\n",
    "        self.W = np.dot(np.linalg.pinv(H), y)\n",
    "        \n",
    "    def predict(self, X):\n",
    "        N = X.shape[0] # number of samples\n",
    "        n = X.shape[1] # samples dimension\n",
    "        H = np.ones((N, self.n_neurons+1))\n",
    "        for j in range(N):\n",
    "            for i in range(self.n_neurons):\n",
    "                mi = self.m[i,:]\n",
    "                covi = self.cov_list[i] + 0.001 * np.diag(np.ones(n)) \n",
    "                H[j, i+1] = self.pdfnvar(X[j, ], mi, covi, n)\n",
    "        y_hat = np.dot(H, self.W)\n",
    "        return y_hat"
   ]
  },
  {
   "cell_type": "markdown",
   "metadata": {},
   "source": [
    "## Função para captação de resultados"
   ]
  },
  {
   "cell_type": "code",
   "execution_count": 40,
   "metadata": {},
   "outputs": [],
   "source": [
    "def results(X, y, max_iterations, p):\n",
    "    train_accuracy_RBF = np.zeros(max_iterations)\n",
    "    test_accuracy_RBF = np.zeros(max_iterations) \n",
    "    train_accuracy_RBF2 = np.zeros(max_iterations)\n",
    "    test_accuracy_RBF2 = np.zeros(max_iterations)\n",
    "    \n",
    "    for i in range(0, max_iterations):\n",
    "        X_train, X_test, y_train, y_test = train_test_split(X, y, test_size=0.2)\n",
    "        # Normalizing data:\n",
    "        normalizer = preprocessing.Normalizer()\n",
    "        X_train = normalizer.fit_transform(X_train)\n",
    "        X_test = normalizer.transform(X_test)\n",
    "      \n",
    "        # RBF\n",
    "        clf = RBF(p)\n",
    "        clf.fit(X_train, y_train)\n",
    "        y_hat_train = clf.predict(X_train)\n",
    "        y_hat_train = (1*(y_hat_train >= 0)-0.5)*2\n",
    "        y_hat = clf.predict(X_test)\n",
    "        y_hat = (1*(y_hat >= 0)-0.5)*2\n",
    "        train_accuracy_RBF[i] = accuracy_score(y_train, y_hat_train)   \n",
    "        test_accuracy_RBF[i] = accuracy_score(y_test, y_hat)\n",
    "        \n",
    "        # RBF Random centers and radius\n",
    "        clf = random_RBF(p)\n",
    "        clf.fit(X_train, y_train)\n",
    "        y_hat_train=clf.predict(X_train)\n",
    "        y_hat_train = (1*(y_hat_train >= 0)-0.5)*2\n",
    "        y_hat=clf.predict(X_test)\n",
    "        y_hat = (1*(y_hat >= 0)-0.5)*2\n",
    "        train_accuracy_RBF2[i] = accuracy_score(y_train, y_hat_train)   \n",
    "        test_accuracy_RBF2[i] = accuracy_score(y_test, y_hat)\n",
    "        \n",
    "     \n",
    "    print(f\"********* Results RBF-Kmeans (p = {p})**************\")\n",
    "    print(\"Acc train: \" + '{:.4f}'.format(train_accuracy_RBF.mean())+ \"+/-\" + '{:.4f}'.format(train_accuracy_RBF.std()))\n",
    "    print(\"Acc test: \" + '{:.4f}'.format(test_accuracy_RBF.mean()) + \"+/-\" + '{:.4f}'.format(test_accuracy_RBF.std()))\n",
    "    print(f\"********* Results RBF-Random (p = {p})**************\")\n",
    "    print(\"Acc train: \" + '{:.4f}'.format(train_accuracy_RBF2.mean())+ \"+/-\" + '{:.4f}'.format(train_accuracy_RBF2.std()))\n",
    "    print(\"Acc test: \" + '{:.4f}'.format(test_accuracy_RBF2.mean()) + \"+/-\" + '{:.4f}'.format(test_accuracy_RBF2.std()))"
   ]
  },
  {
   "cell_type": "markdown",
   "metadata": {},
   "source": [
    "## Aplicação na base Breast Cancer"
   ]
  },
  {
   "cell_type": "code",
   "execution_count": 41,
   "metadata": {},
   "outputs": [
    {
     "name": "stdout",
     "output_type": "stream",
     "text": [
      "********* Results RBF-Kmeans (p = 5)**************\n",
      "Acc train: 0.9020+/-0.0051\n",
      "Acc test: 0.9009+/-0.0275\n",
      "********* Results RBF-Random (p = 5)**************\n",
      "Acc train: 0.8952+/-0.0203\n",
      "Acc test: 0.8895+/-0.0356\n",
      "********* Results RBF-Kmeans (p = 10)**************\n",
      "Acc train: 0.9211+/-0.0066\n",
      "Acc test: 0.9193+/-0.0203\n",
      "********* Results RBF-Random (p = 10)**************\n",
      "Acc train: 0.9207+/-0.0095\n",
      "Acc test: 0.9175+/-0.0163\n",
      "********* Results RBF-Kmeans (p = 30)**************\n",
      "Acc train: 0.9284+/-0.0057\n",
      "Acc test: 0.9289+/-0.0149\n",
      "********* Results RBF-Random (p = 30)**************\n",
      "Acc train: 0.9393+/-0.0060\n",
      "Acc test: 0.9316+/-0.0218\n",
      "********* Results RBF-Kmeans (p = 50)**************\n",
      "Acc train: 0.9389+/-0.0056\n",
      "Acc test: 0.9140+/-0.0199\n",
      "********* Results RBF-Random (p = 50)**************\n",
      "Acc train: 0.9525+/-0.0057\n",
      "Acc test: 0.9298+/-0.0162\n",
      "********* Results RBF-Kmeans (p = 100)**************\n",
      "Acc train: 0.9574+/-0.0049\n",
      "Acc test: 0.9386+/-0.0166\n",
      "********* Results RBF-Random (p = 100)**************\n",
      "Acc train: 0.9754+/-0.0031\n",
      "Acc test: 0.9491+/-0.0195\n"
     ]
    }
   ],
   "source": [
    "wdbc_dataset = pd.read_csv('data/WDBC/wdbc.data', names=list(range(0,32)))\n",
    "# convert to array\n",
    "y = wdbc_dataset[1].to_numpy()\n",
    "X = wdbc_dataset.drop([0, 1],axis='columns').to_numpy()\n",
    "y[np.where(y=='B')] = 1\n",
    "y[np.where(y=='M')] = -1\n",
    "y = np.array(y.tolist())\n",
    "for p in [5, 10, 30, 50, 100]:\n",
    "    results(X, y, 10, p)"
   ]
  },
  {
   "cell_type": "markdown",
   "metadata": {},
   "source": [
    "## Aplicação na base Statlog (Heart)"
   ]
  },
  {
   "cell_type": "code",
   "execution_count": 42,
   "metadata": {},
   "outputs": [
    {
     "name": "stdout",
     "output_type": "stream",
     "text": [
      "********* Results RBF-Kmeans (p = 5)**************\n",
      "Acc train: 0.6870+/-0.0155\n",
      "Acc test: 0.6389+/-0.0610\n",
      "********* Results RBF-Random (p = 5)**************\n",
      "Acc train: 0.6662+/-0.0259\n",
      "Acc test: 0.6000+/-0.0637\n",
      "********* Results RBF-Kmeans (p = 10)**************\n",
      "Acc train: 0.6907+/-0.0170\n",
      "Acc test: 0.6352+/-0.0933\n",
      "********* Results RBF-Random (p = 10)**************\n",
      "Acc train: 0.7204+/-0.0313\n",
      "Acc test: 0.6611+/-0.0790\n",
      "********* Results RBF-Kmeans (p = 30)**************\n",
      "Acc train: 0.7347+/-0.0137\n",
      "Acc test: 0.6704+/-0.0624\n",
      "********* Results RBF-Random (p = 30)**************\n",
      "Acc train: 0.8139+/-0.0153\n",
      "Acc test: 0.7426+/-0.0418\n",
      "********* Results RBF-Kmeans (p = 50)**************\n",
      "Acc train: 0.7579+/-0.0243\n",
      "Acc test: 0.6519+/-0.0607\n",
      "********* Results RBF-Random (p = 50)**************\n",
      "Acc train: 0.8477+/-0.0189\n",
      "Acc test: 0.7537+/-0.0389\n",
      "********* Results RBF-Kmeans (p = 100)**************\n",
      "Acc train: 0.8532+/-0.0083\n",
      "Acc test: 0.6537+/-0.0310\n",
      "********* Results RBF-Random (p = 100)**************\n",
      "Acc train: 0.9194+/-0.0121\n",
      "Acc test: 0.6889+/-0.0359\n"
     ]
    }
   ],
   "source": [
    "statlog_dataset = pd.read_csv('data/statlog/heart.dat', sep=\"\\s+\", engine='python', header=None)\n",
    "X = statlog_dataset.drop((13), 1).to_numpy()\n",
    "y = statlog_dataset.iloc[:, 13].to_numpy()\n",
    "y[y==2] = -1\n",
    "for p in [5, 10, 30, 50, 100]:\n",
    "    results(X, y, 10, p)"
   ]
  },
  {
   "cell_type": "markdown",
   "metadata": {},
   "source": [
    "## Discussão:\n",
    "\n",
    "Acima é possível perceber que para todos os números de neurônios maiores que 5 a RBF com centros e raios randômicos obteve resultados superiores a rede RBF com centros selecionados com o algoritmo K-means.\n",
    "\n",
    "Contudo. ao compararmos os resultados da rede RBF com os da ELM (da lista 6), nota-se que a ELM foi superior em todos os teste.\n"
   ]
  },
  {
   "cell_type": "markdown",
   "metadata": {},
   "source": [
    "# Referências\n",
    "\n",
    "[1] D. Dua and C. Graff, “UCI machine learning repository,” 2017. [Online]. Available: http://archive.ics.uci.edu/ml"
   ]
  }
 ],
 "metadata": {
  "kernelspec": {
   "display_name": "Python 3",
   "language": "python",
   "name": "python3"
  },
  "language_info": {
   "codemirror_mode": {
    "name": "ipython",
    "version": 3
   },
   "file_extension": ".py",
   "mimetype": "text/x-python",
   "name": "python",
   "nbconvert_exporter": "python",
   "pygments_lexer": "ipython3",
   "version": "3.6.7"
  }
 },
 "nbformat": 4,
 "nbformat_minor": 2
}
